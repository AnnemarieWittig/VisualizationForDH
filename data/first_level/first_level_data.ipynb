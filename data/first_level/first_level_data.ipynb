{
 "cells": [
  {
   "cell_type": "code",
   "execution_count": 1,
   "metadata": {},
   "outputs": [
    {
     "name": "stderr",
     "output_type": "stream",
     "text": [
      "C:\\Users\\juliu\\AppData\\Local\\Temp\\ipykernel_17696\\3723518569.py:10: SettingWithCopyWarning: \n",
      "A value is trying to be set on a copy of a slice from a DataFrame.\n",
      "Try using .loc[row_indexer,col_indexer] = value instead\n",
      "\n",
      "See the caveats in the documentation: https://pandas.pydata.org/pandas-docs/stable/user_guide/indexing.html#returning-a-view-versus-a-copy\n",
      "  filtered_df['2022'] = pd.to_numeric(filtered_df['2022'])\n"
     ]
    }
   ],
   "source": [
    "\n",
    "import pandas as pd\n",
    "import json\n",
    "\n",
    "df = pd.read_csv('21341-0003_$F.csv', encoding='latin1', skiprows=0, delimiter=';')\n",
    "\n",
    "# Filtering the dataframe\n",
    "filtered_df = df[(df['Geschlecht'] != 'Insgesamt') & (df['Fächergruppe'] != 'Insgesamt') & (df['2022'] != '-') & (df['Fächergruppe'] != 'Zentr.Einricht.d.Hochschulkliniken (nur Humanmed.)')& (df['Fächergruppe'] != 'Zentr.Einrichtungen (o. klinikspez. Einrichtungen)')]\n",
    "\n",
    "# Converting the '2022' column to numeric\n",
    "filtered_df['2022'] = pd.to_numeric(filtered_df['2022'])\n",
    "\n",
    "# Calculate the total for each 'Fächergruppe'\n",
    "totals = filtered_df.groupby('Fächergruppe')['2022'].sum().reset_index()\n",
    "totals = totals.rename(columns={'2022': 'Total'})\n",
    "\n",
    "# Merging totals back to the filtered dataframe\n",
    "merged_df = pd.merge(filtered_df, totals, on='Fächergruppe')\n",
    "\n",
    "# Calculate the percentage\n",
    "merged_df['Prozent'] = (merged_df['2022'] / merged_df['Total'] * 100).round().astype(int)\n",
    "\n",
    "# Selecting and renaming columns\n",
    "result_df = merged_df[['Fächergruppe', 'Geschlecht', '2022', 'Prozent']]\n",
    "result_df = result_df.rename(columns={'2022': 'Anzahl'})\n",
    "\n",
    "# Converting the dataframe to JSON format\n",
    "result_json = result_df.to_json(orient='records', force_ascii=False)\n",
    "\n",
    "# Save the resulting JSON\n",
    "output_path = 'first_level_data.json'\n",
    "with open(output_path, 'w', encoding='utf-8') as json_file:\n",
    "    json_file.write(result_json)\n",
    "\n"
   ]
  }
 ],
 "metadata": {
  "kernelspec": {
   "display_name": "CER",
   "language": "python",
   "name": "python3"
  },
  "language_info": {
   "codemirror_mode": {
    "name": "ipython",
    "version": 3
   },
   "file_extension": ".py",
   "mimetype": "text/x-python",
   "name": "python",
   "nbconvert_exporter": "python",
   "pygments_lexer": "ipython3",
   "version": "3.11.3"
  }
 },
 "nbformat": 4,
 "nbformat_minor": 2
}
